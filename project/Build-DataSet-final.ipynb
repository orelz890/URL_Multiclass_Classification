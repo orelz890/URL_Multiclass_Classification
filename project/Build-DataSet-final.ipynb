{
 "cells": [
  {
   "cell_type": "code",
   "execution_count": 2,
   "id": "initial_id",
   "metadata": {
    "ExecuteTime": {
     "end_time": "2024-02-15T14:59:22.787765Z",
     "start_time": "2024-02-15T14:59:22.701701Z"
    }
   },
   "outputs": [],
   "source": [
    "import pandas as pd"
   ]
  },
  {
   "cell_type": "code",
   "execution_count": 20,
   "id": "4ff6e6680454c090",
   "metadata": {
    "ExecuteTime": {
     "end_time": "2024-02-15T14:59:23.836522Z",
     "start_time": "2024-02-15T14:59:23.054010Z"
    }
   },
   "outputs": [],
   "source": [
    "# Regex pattern to match URLs with specific path, query string, and fragment\n",
    "# pattern = r'^https?:\\/\\/.*\\/.+'\n",
    "# # # Filter URLs that match the pattern\n",
    "# filtered_df = benign_urls_df[benign_urls_df['url'].str.contains(pattern, regex=True)]\n",
    "\n",
    "# Load benign URLs and label them\n",
    "white_urls_df = pd.read_csv('white_url.csv') \n",
    "benign_urls_df = white_urls_df[white_urls_df['label'] == 'benign'][['url']]\n",
    "benign_urls_df['label'] = 'benign'"
   ]
  },
  {
   "cell_type": "code",
   "execution_count": 21,
   "id": "81f4b093ad982d8f",
   "metadata": {
    "ExecuteTime": {
     "end_time": "2024-02-15T14:59:23.962784Z",
     "start_time": "2024-02-15T14:59:23.839818Z"
    }
   },
   "outputs": [
    {
     "name": "stderr",
     "output_type": "stream",
     "text": [
      "/Users/lazratiedri/.virtualenvs/Aviel/lib/python3.6/site-packages/ipykernel_launcher.py:4: SettingWithCopyWarning: \n",
      "A value is trying to be set on a copy of a slice from a DataFrame.\n",
      "Try using .loc[row_indexer,col_indexer] = value instead\n",
      "\n",
      "See the caveats in the documentation: https://pandas.pydata.org/pandas-docs/stable/user_guide/indexing.html#returning-a-view-versus-a-copy\n",
      "  after removing the cwd from sys.path.\n"
     ]
    }
   ],
   "source": [
    "# Load malware URLs and label them\n",
    "malware_df = pd.read_csv('malware_url.csv')  # Replace 'path_to_malware_url.csv' with the actual file path\n",
    "malware_urls_df = malware_df[['url']]  # Assuming 'url' is the column name\n",
    "malware_urls_df['label'] = 'malware'"
   ]
  },
  {
   "cell_type": "code",
   "execution_count": 22,
   "id": "18322e1bb135feea",
   "metadata": {
    "ExecuteTime": {
     "end_time": "2024-02-15T14:59:24.159705Z",
     "start_time": "2024-02-15T14:59:23.965713Z"
    }
   },
   "outputs": [
    {
     "name": "stderr",
     "output_type": "stream",
     "text": [
      "/Users/lazratiedri/.virtualenvs/Aviel/lib/python3.6/site-packages/ipykernel_launcher.py:4: SettingWithCopyWarning: \n",
      "A value is trying to be set on a copy of a slice from a DataFrame.\n",
      "Try using .loc[row_indexer,col_indexer] = value instead\n",
      "\n",
      "See the caveats in the documentation: https://pandas.pydata.org/pandas-docs/stable/user_guide/indexing.html#returning-a-view-versus-a-copy\n",
      "  after removing the cwd from sys.path.\n"
     ]
    }
   ],
   "source": [
    "# Load phishing URLs and label them\n",
    "phish_df = pd.read_csv('phishing_url.csv')  # Replace 'path_to_phish_url.csv' with the actual file path\n",
    "phish_urls_df = phish_df[['url']]  # Assuming 'url' is the column name\n",
    "phish_urls_df['label'] = 'phishing'"
   ]
  },
  {
   "cell_type": "code",
   "execution_count": 29,
   "id": "c61b13f2a2e58dff",
   "metadata": {
    "ExecuteTime": {
     "end_time": "2024-02-15T15:02:21.639705Z",
     "start_time": "2024-02-15T15:02:20.545926Z"
    }
   },
   "outputs": [],
   "source": [
    "# Load https://www.kaggle.com/datasets/sid321axn/malicious-urls-dataset\n",
    "malicious_df = pd.read_csv('malicious_phish.csv')  \n",
    "\n",
    "phish_malicious_df = malicious_df[malicious_df['type'] == 'phishing'][['url']]\n",
    "phish_malicious_df['label'] = 'phishing'\n",
    "\n",
    "malware_malicious_df = malicious_df[malicious_df['type'] == 'malware'][['url']]\n",
    "malware_malicious_df['label'] = 'malware'\n",
    "\n",
    "benign_malicious_df = malicious_df[malicious_df['type'] == 'benign'][['url']]\n",
    "benign_malicious_df['label'] = 'benign'"
   ]
  },
  {
   "cell_type": "code",
   "execution_count": 34,
   "id": "f222ab8a4c5b4226",
   "metadata": {
    "ExecuteTime": {
     "end_time": "2024-02-15T15:03:47.742350Z",
     "start_time": "2024-02-15T15:03:47.509895Z"
    }
   },
   "outputs": [],
   "source": [
    "spam_df_hostname2007 = pd.read_csv('WEBSPAM-UK2007-hostnames.txt',delimiter=\" \")  \n",
    "spam_df_hostname2007_set1 = pd.read_csv('WEBSPAM-UK2007-SET1-labels.txt',delimiter=\" \")  \n",
    "spam_df_hostname2007_set2 = pd.read_csv('WEBSPAM-UK2007-SET2-labels.txt',delimiter=\" \")  \n",
    "\n",
    "\n",
    "result1 = spam_df_hostname2007.join(spam_df_hostname2007_set1, how='inner', lsuffix='_df1', rsuffix='_df2')\n",
    "result2 = spam_df_hostname2007.join(spam_df_hostname2007_set2, how='inner', lsuffix='_df1', rsuffix='_df2')\n",
    "\n",
    "spam_df = result2[['url','label']].append(result1[['url','label']]).drop_duplicates()\n",
    "spam_df = spam_df[spam_df['label'] == 'spam'][['url','label']]"
   ]
  },
  {
   "cell_type": "code",
   "execution_count": 5,
   "id": "97eb28c8bbafcceb",
   "metadata": {
    "ExecuteTime": {
     "end_time": "2024-02-15T15:04:36.426219Z",
     "start_time": "2024-02-15T15:04:36.158308Z"
    }
   },
   "outputs": [
    {
     "name": "stdout",
     "output_type": "stream",
     "text": [
      "Number of samples per class:\n",
      "label\n",
      "spam    2785\n",
      "Name: count, dtype: int64\n"
     ]
    }
   ],
   "source": [
    "# Load https://www.kaggle.com/datasets/shivamb/spam-url-prediction?resource=download\n",
    "spam_url_df = pd.read_csv('url_spam_classification.csv')  \n",
    "spam_url_kaggle_df = spam_url_df[spam_url_df['is_spam'] == True][['url']]\n",
    "spam_url_kaggle_df['label'] = 'spam'\n",
    "\n",
    "# Print the number of samples for each class\n",
    "print(\"Number of samples per class:\")\n",
    "print(spam_url_kaggle_df['label'].value_counts())"
   ]
  },
  {
   "cell_type": "code",
   "execution_count": 41,
   "id": "2d591ae64ac83eb8",
   "metadata": {
    "ExecuteTime": {
     "end_time": "2024-02-15T15:04:48.946106Z",
     "start_time": "2024-02-15T15:04:46.305913Z"
    }
   },
   "outputs": [
    {
     "name": "stdout",
     "output_type": "stream",
     "text": [
      "Total number of URLs: 972019\n",
      "Number of samples per class:\n",
      "benign      773818\n",
      "phishing    140608\n",
      "malware      54470\n",
      "spam          3123\n",
      "Name: label, dtype: int64\n"
     ]
    }
   ],
   "source": [
    "# Combine all the dataframes\n",
    "url_dataset= pd.concat([benign_urls_df, malware_urls_df, phish_urls_df, phish_malicious_df, malware_malicious_df, benign_malicious_df,spam_url_kaggle_df,spam_df], ignore_index=True)\n",
    "\n",
    "# Remove any duplicates in the combined dataset, although there shouldn't be any at this point\n",
    "url_dataset = url_dataset.drop_duplicates()\n",
    "\n",
    "# Save the combined dataframe to a new CSV file\n",
    "url_dataset.to_csv('url_dataset.csv', index=False)\n",
    "\n",
    "# Print the number of lines in the final CSV\n",
    "print(f\"Total number of URLs: {len(url_dataset)}\")\n",
    "\n",
    "# Print the number of samples for each class\n",
    "print(\"Number of samples per class:\")\n",
    "print(url_dataset['label'].value_counts())"
   ]
  },
  {
   "cell_type": "code",
   "execution_count": null,
   "id": "cea5484eaaa76af5",
   "metadata": {},
   "outputs": [],
   "source": []
  }
 ],
 "metadata": {
  "kernelspec": {
   "display_name": "Python 3 (ipykernel)",
   "language": "python",
   "name": "python3"
  },
  "language_info": {
   "codemirror_mode": {
    "name": "ipython",
    "version": 3
   },
   "file_extension": ".py",
   "mimetype": "text/x-python",
   "name": "python",
   "nbconvert_exporter": "python",
   "pygments_lexer": "ipython3",
   "version": "3.11.5"
  }
 },
 "nbformat": 4,
 "nbformat_minor": 5
}
